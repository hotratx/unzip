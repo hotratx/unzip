{
 "cells": [
  {
   "cell_type": "code",
   "execution_count": 207,
   "id": "cbde63ab-900e-4abc-8653-0970bdde7762",
   "metadata": {},
   "outputs": [],
   "source": [
    "from typing import List\n",
    "from zipfile import ZipFile\n",
    "from pathlib import Path, PosixPath"
   ]
  },
  {
   "cell_type": "code",
   "execution_count": 355,
   "id": "3e6e1870-5c46-4dea-be8c-628b44f39a8a",
   "metadata": {},
   "outputs": [],
   "source": [
    "# folder_path = ['/home/hotratx/ttttest']\n",
    "# pattern = re.compile(r\"(.*)\\.mp4$\")\n",
    "\n",
    "\n",
    "def all_files_zip(path: PosixPath) -> List[PosixPath]:\n",
    "    \"\"\"Lista todos os arquivos do path que são .zip\"\"\"\n",
    "    return [ p for p in path.iterdir() if p.suffix == '.zip' ]\n",
    "\n",
    "def extract_zip(path: PosixPath):\n",
    "    file = path / str(path).split('.')[0]\n",
    "    if file.exists() and file.is_dir():\n",
    "        print(f'folder {file.name} já existe')\n",
    "    else:\n",
    "        print(f'criando folder para {file}')\n",
    "        file.mkdir()\n",
    "        unzip(file)\n",
    "        \n",
    "def unzip(file_name: PosixPath):\n",
    "    with ZipFile(str(file_name) + '.zip', \"r\") as zip:\n",
    "        print(\"Extraindo todos os arquivos agora...\")\n",
    "        zip.extractall(str(file_name))\n",
    "        print(\"Feito!\")    \n",
    "        \n",
    "def run(paths):\n",
    "    for path in paths:\n",
    "        p = Path(path)\n",
    "        files = all_files_zip(p)\n",
    "        if files:\n",
    "            print(f'Todos arquivos zip encontrados: {files}')\n",
    "            _ = list(map(extract_zip, files))\n",
    "            \n",
    "        "
   ]
  },
  {
   "cell_type": "code",
   "execution_count": 356,
   "id": "011315a7-7892-4a08-90e8-7cb265d60c2a",
   "metadata": {},
   "outputs": [
    {
     "data": {
      "text/plain": [
       "[PosixPath('/home/hotratx/ttttest/bit.zip')]"
      ]
     },
     "execution_count": 356,
     "metadata": {},
     "output_type": "execute_result"
    }
   ],
   "source": [
    "p = Path('/home/hotratx/ttttest')\n",
    "files = all_files_zip(p)\n",
    "files"
   ]
  },
  {
   "cell_type": "code",
   "execution_count": 357,
   "id": "80d8ebc5-7d05-42c7-afe7-6f9b4de11ec2",
   "metadata": {},
   "outputs": [
    {
     "name": "stdout",
     "output_type": "stream",
     "text": [
      "Todos arquivos zip encontrados: [PosixPath('/home/hotratx/ttttest/bit.zip')]\n",
      "folder bit já existe\n"
     ]
    }
   ],
   "source": [
    "folder_path = ['/home/hotratx/ttttest']\n",
    "x = run(folder_path)\n",
    "x"
   ]
  },
  {
   "cell_type": "code",
   "execution_count": 284,
   "id": "33b54019-4c05-4d9e-8bcc-29a60286dbb4",
   "metadata": {},
   "outputs": [
    {
     "data": {
      "text/plain": [
       "PosixPath('/home/hotratx/ttttest/bit.zip')"
      ]
     },
     "execution_count": 284,
     "metadata": {},
     "output_type": "execute_result"
    }
   ],
   "source": [
    "p = Path('/home/hotratx/ttttest/bit.zip')\n",
    "p"
   ]
  },
  {
   "cell_type": "code",
   "execution_count": 285,
   "id": "47439a17-b67a-47f6-a7ae-f307cc01271b",
   "metadata": {},
   "outputs": [
    {
     "data": {
      "text/plain": [
       "'bit'"
      ]
     },
     "execution_count": 285,
     "metadata": {},
     "output_type": "execute_result"
    }
   ],
   "source": [
    "p.name.split('.')[0]"
   ]
  },
  {
   "cell_type": "code",
   "execution_count": 286,
   "id": "02e12651-27e8-4be0-959b-018cc2e6b1ed",
   "metadata": {},
   "outputs": [
    {
     "data": {
      "text/plain": [
       "PosixPath('/home/hotratx/ttttest')"
      ]
     },
     "execution_count": 286,
     "metadata": {},
     "output_type": "execute_result"
    }
   ],
   "source": [
    "p.parent"
   ]
  },
  {
   "cell_type": "code",
   "execution_count": 287,
   "id": "2d2eaad0-ff6e-42e4-82bf-4ed9b623442d",
   "metadata": {},
   "outputs": [
    {
     "data": {
      "text/plain": [
       "'/home/hotratx/ttttest/bit'"
      ]
     },
     "execution_count": 287,
     "metadata": {},
     "output_type": "execute_result"
    }
   ],
   "source": [
    "str(p).split('.')[0]"
   ]
  },
  {
   "cell_type": "code",
   "execution_count": 294,
   "id": "efc2503f-3100-4f9c-8355-824a705d531f",
   "metadata": {},
   "outputs": [
    {
     "data": {
      "text/plain": [
       "PosixPath('/home/hotratx/ttttest/bit')"
      ]
     },
     "execution_count": 294,
     "metadata": {},
     "output_type": "execute_result"
    }
   ],
   "source": [
    "file = p / str(p).split('.')[0]\n",
    "file"
   ]
  },
  {
   "cell_type": "code",
   "execution_count": 295,
   "id": "5e9876b0-86d9-4247-9b59-b8ed6350fef2",
   "metadata": {},
   "outputs": [
    {
     "data": {
      "text/plain": [
       "PosixPath('/home/hotratx/ttttest/bit.zip')"
      ]
     },
     "execution_count": 295,
     "metadata": {},
     "output_type": "execute_result"
    }
   ],
   "source": [
    "p"
   ]
  },
  {
   "cell_type": "code",
   "execution_count": 304,
   "id": "7a16f4c0-ac4f-432a-8f3b-c618eccbfba0",
   "metadata": {},
   "outputs": [
    {
     "data": {
      "text/plain": [
       "'/home/hotratx/ttttest/bit.zip'"
      ]
     },
     "execution_count": 304,
     "metadata": {},
     "output_type": "execute_result"
    }
   ],
   "source": [
    "str(file) + '.zip'"
   ]
  },
  {
   "cell_type": "code",
   "execution_count": null,
   "id": "e6015024-afb5-40fa-bd17-be1b0466bb87",
   "metadata": {},
   "outputs": [],
   "source": []
  },
  {
   "cell_type": "code",
   "execution_count": null,
   "id": "88541a00-0f74-4b21-8763-9c69ebe2c924",
   "metadata": {},
   "outputs": [],
   "source": []
  },
  {
   "cell_type": "code",
   "execution_count": null,
   "id": "3902c086-6a45-4e82-8d5f-97e3f490dce4",
   "metadata": {},
   "outputs": [],
   "source": []
  },
  {
   "cell_type": "code",
   "execution_count": null,
   "id": "f48e080d-2288-4b29-a0e1-e106e7d23321",
   "metadata": {},
   "outputs": [],
   "source": []
  },
  {
   "cell_type": "code",
   "execution_count": 201,
   "id": "08117063-8198-4f96-915d-9cd9168bea2d",
   "metadata": {},
   "outputs": [
    {
     "data": {
      "text/plain": [
       "PosixPath('/home/hotratx/ttttest/aaa')"
      ]
     },
     "execution_count": 201,
     "metadata": {},
     "output_type": "execute_result"
    }
   ],
   "source": [
    "y = p / 'aaa'\n",
    "y"
   ]
  },
  {
   "cell_type": "code",
   "execution_count": 206,
   "id": "9424b836-608d-4570-a07f-78e6bd8d104a",
   "metadata": {},
   "outputs": [
    {
     "name": "stdout",
     "output_type": "stream",
     "text": [
      "sim\n"
     ]
    }
   ],
   "source": [
    "if y.exists() and y.is_dir():\n",
    "    print('sim')"
   ]
  },
  {
   "cell_type": "code",
   "execution_count": null,
   "id": "758547ac-49fb-469f-85f8-b0fc3ee1109c",
   "metadata": {},
   "outputs": [],
   "source": []
  },
  {
   "cell_type": "code",
   "execution_count": null,
   "id": "ff6edb62-31ab-4902-892f-b583f621af52",
   "metadata": {},
   "outputs": [],
   "source": []
  },
  {
   "cell_type": "code",
   "execution_count": null,
   "id": "7dc16e17-4d11-4f95-9b18-0857ab92bb27",
   "metadata": {},
   "outputs": [],
   "source": []
  },
  {
   "cell_type": "code",
   "execution_count": null,
   "id": "a7de7558-4202-43d5-8c4e-f81ebceadfa4",
   "metadata": {},
   "outputs": [],
   "source": []
  },
  {
   "cell_type": "code",
   "execution_count": null,
   "id": "8c4ba16b-0c33-44b6-89f1-cd7fee8aecb8",
   "metadata": {},
   "outputs": [],
   "source": []
  },
  {
   "cell_type": "code",
   "execution_count": null,
   "id": "0ccdda9d-51f1-43f5-8769-3bc3b4be00a8",
   "metadata": {},
   "outputs": [],
   "source": []
  },
  {
   "cell_type": "code",
   "execution_count": 182,
   "id": "c6854308-8adc-497b-a98a-b72d4329de4a",
   "metadata": {},
   "outputs": [
    {
     "data": {
      "text/plain": [
       "PosixPath('.')"
      ]
     },
     "execution_count": 182,
     "metadata": {},
     "output_type": "execute_result"
    }
   ],
   "source": [
    "p = Path()\n",
    "p"
   ]
  },
  {
   "cell_type": "code",
   "execution_count": 192,
   "id": "dd045ec3-9592-4c0d-ae20-bd6e5ef886d3",
   "metadata": {},
   "outputs": [
    {
     "data": {
      "text/plain": [
       "PosixPath('/home/hotratx/ttttest/aaa')"
      ]
     },
     "execution_count": 192,
     "metadata": {},
     "output_type": "execute_result"
    }
   ],
   "source": [
    "x = p.resolve()\n",
    "x"
   ]
  },
  {
   "cell_type": "code",
   "execution_count": 6,
   "id": "6d5ee5a0-5920-4a54-a79a-04c15d3e9e07",
   "metadata": {},
   "outputs": [
    {
     "data": {
      "text/plain": [
       "PosixPath('/home/hotratx/dev/freela/zip')"
      ]
     },
     "execution_count": 6,
     "metadata": {},
     "output_type": "execute_result"
    }
   ],
   "source": [
    "p.absolute()"
   ]
  },
  {
   "cell_type": "code",
   "execution_count": 9,
   "id": "7d7ef087-6b44-4fff-b1f3-c0221489a83c",
   "metadata": {},
   "outputs": [
    {
     "data": {
      "text/plain": [
       "[16877, 4862048, 2050, 3, 1000, 984, 4096, 1655216660, 1655216660, 1655216660]"
      ]
     },
     "execution_count": 9,
     "metadata": {},
     "output_type": "execute_result"
    }
   ],
   "source": [
    "list(p.lstat())"
   ]
  },
  {
   "cell_type": "code",
   "execution_count": 11,
   "id": "4eeb88a1-33b4-4b52-890d-8e1bd7f51f53",
   "metadata": {},
   "outputs": [
    {
     "name": "stdout",
     "output_type": "stream",
     "text": [
      ".ipynb_checkpoints\n",
      "Untitled.ipynb\n"
     ]
    }
   ],
   "source": [
    "for x in p.iterdir():\n",
    "    print(x)"
   ]
  },
  {
   "cell_type": "code",
   "execution_count": 113,
   "id": "c797eb44-b5a5-4a6c-a90b-b1098f5e1ad5",
   "metadata": {},
   "outputs": [
    {
     "ename": "FileNotFoundError",
     "evalue": "[Errno 2] No such file or directory: '/home/hotratx/Videos/financeControl.mp4'",
     "output_type": "error",
     "traceback": [
      "\u001b[0;31m---------------------------------------------------------------------------\u001b[0m",
      "\u001b[0;31mFileNotFoundError\u001b[0m                         Traceback (most recent call last)",
      "Input \u001b[0;32mIn [113]\u001b[0m, in \u001b[0;36m<module>\u001b[0;34m\u001b[0m\n\u001b[0;32m----> 1\u001b[0m \u001b[43mfiles\u001b[49m\u001b[43m[\u001b[49m\u001b[38;5;241;43m0\u001b[39;49m\u001b[43m]\u001b[49m\u001b[38;5;241;43m.\u001b[39;49m\u001b[43munlink\u001b[49m\u001b[43m(\u001b[49m\u001b[43m)\u001b[49m\n",
      "File \u001b[0;32m/usr/lib/python3.10/pathlib.py:1204\u001b[0m, in \u001b[0;36mPath.unlink\u001b[0;34m(self, missing_ok)\u001b[0m\n\u001b[1;32m   1199\u001b[0m \u001b[38;5;124;03m\"\"\"\u001b[39;00m\n\u001b[1;32m   1200\u001b[0m \u001b[38;5;124;03mRemove this file or link.\u001b[39;00m\n\u001b[1;32m   1201\u001b[0m \u001b[38;5;124;03mIf the path is a directory, use rmdir() instead.\u001b[39;00m\n\u001b[1;32m   1202\u001b[0m \u001b[38;5;124;03m\"\"\"\u001b[39;00m\n\u001b[1;32m   1203\u001b[0m \u001b[38;5;28;01mtry\u001b[39;00m:\n\u001b[0;32m-> 1204\u001b[0m     \u001b[38;5;28;43mself\u001b[39;49m\u001b[38;5;241;43m.\u001b[39;49m\u001b[43m_accessor\u001b[49m\u001b[38;5;241;43m.\u001b[39;49m\u001b[43munlink\u001b[49m\u001b[43m(\u001b[49m\u001b[38;5;28;43mself\u001b[39;49m\u001b[43m)\u001b[49m\n\u001b[1;32m   1205\u001b[0m \u001b[38;5;28;01mexcept\u001b[39;00m \u001b[38;5;167;01mFileNotFoundError\u001b[39;00m:\n\u001b[1;32m   1206\u001b[0m     \u001b[38;5;28;01mif\u001b[39;00m \u001b[38;5;129;01mnot\u001b[39;00m missing_ok:\n",
      "\u001b[0;31mFileNotFoundError\u001b[0m: [Errno 2] No such file or directory: '/home/hotratx/Videos/financeControl.mp4'"
     ]
    }
   ],
   "source": [
    "files[0].unlink()"
   ]
  },
  {
   "cell_type": "code",
   "execution_count": 114,
   "id": "0e628325-4c1e-4098-8bce-f653f9084df8",
   "metadata": {},
   "outputs": [],
   "source": [
    "files[0].mkdir()"
   ]
  },
  {
   "cell_type": "code",
   "execution_count": 115,
   "id": "95b45a63-905b-4e15-8e3d-160f92f494f2",
   "metadata": {},
   "outputs": [],
   "source": [
    "files[0].rmdir()"
   ]
  },
  {
   "cell_type": "code",
   "execution_count": 118,
   "id": "09693403-04f8-4e37-9736-780968804be9",
   "metadata": {},
   "outputs": [
    {
     "ename": "AttributeError",
     "evalue": "'str' object has no attribute 'mkdir'",
     "output_type": "error",
     "traceback": [
      "\u001b[0;31m---------------------------------------------------------------------------\u001b[0m",
      "\u001b[0;31mAttributeError\u001b[0m                            Traceback (most recent call last)",
      "Input \u001b[0;32mIn [118]\u001b[0m, in \u001b[0;36m<module>\u001b[0;34m\u001b[0m\n\u001b[0;32m----> 1\u001b[0m \u001b[43mfiles\u001b[49m\u001b[43m[\u001b[49m\u001b[38;5;241;43m0\u001b[39;49m\u001b[43m]\u001b[49m\u001b[38;5;241;43m.\u001b[39;49m\u001b[43mname\u001b[49m\u001b[38;5;241;43m.\u001b[39;49m\u001b[43mmkdir\u001b[49m()\n",
      "\u001b[0;31mAttributeError\u001b[0m: 'str' object has no attribute 'mkdir'"
     ]
    }
   ],
   "source": [
    "files[0].name.mkdir()"
   ]
  },
  {
   "cell_type": "code",
   "execution_count": null,
   "id": "2e5e8cb1-ca90-45cf-926c-ecda3c97ba12",
   "metadata": {},
   "outputs": [],
   "source": []
  },
  {
   "cell_type": "code",
   "execution_count": null,
   "id": "258260e7-6bba-4fcb-90c5-4d7b7903192b",
   "metadata": {},
   "outputs": [],
   "source": []
  },
  {
   "cell_type": "code",
   "execution_count": null,
   "id": "dad60a60-89e1-44f6-a7f9-cbc54a195594",
   "metadata": {},
   "outputs": [],
   "source": []
  },
  {
   "cell_type": "code",
   "execution_count": null,
   "id": "57004134-1f5b-4b03-a672-9198cb995c76",
   "metadata": {},
   "outputs": [],
   "source": []
  },
  {
   "cell_type": "code",
   "execution_count": null,
   "id": "d4abd477-4b8b-42b0-bff0-0b084d2f7406",
   "metadata": {},
   "outputs": [],
   "source": []
  },
  {
   "cell_type": "code",
   "execution_count": 110,
   "id": "489beb52-8636-4d82-bc57-7874b29603b9",
   "metadata": {},
   "outputs": [
    {
     "data": {
      "text/plain": [
       "[PosixPath('/home/hotratx/Videos/financeControl.mp4'),\n",
       " PosixPath('/home/hotratx/Videos/comoUsarEstoque.mp4'),\n",
       " PosixPath('/home/hotratx/Videos/simplescreenrecorder-2021-07-26_12.54.09.mp4'),\n",
       " PosixPath('/home/hotratx/Videos/estoqueCasanossa-2021-07-26_14.06.21.mp4'),\n",
       " PosixPath('/home/hotratx/Videos/simplescreenrecorder-2021-07-26_12.55.49.mp4'),\n",
       " PosixPath('/home/hotratx/Videos/comoInstalar2.mp4'),\n",
       " PosixPath('/home/hotratx/Videos/financeControlVersao1.kdenlive'),\n",
       " PosixPath('/home/hotratx/Videos/comoUsarEstoque.kdenlive'),\n",
       " PosixPath('/home/hotratx/Videos/simplescreenrecorder-2021-07-26_12.56.39.mp4'),\n",
       " PosixPath('/home/hotratx/Videos/financecontrol-2021-08-05_18.40.55.mp4'),\n",
       " PosixPath('/home/hotratx/Videos/comoInstalar.mp4'),\n",
       " PosixPath('/home/hotratx/Videos/estoqueCasanossa-2021-07-26_14.19.24.mp4'),\n",
       " PosixPath('/home/hotratx/Videos/financecontrol-2021-08-05_19.32.27.mp4'),\n",
       " PosixPath('/home/hotratx/Videos/estoqueCasanossa-2021-07-26_14.09.32.mp4'),\n",
       " PosixPath('/home/hotratx/Videos/estoqueCasanossa-2021-07-26_13.35.32.mp4'),\n",
       " PosixPath('/home/hotratx/Videos/estoqueCasanossa-2021-07-26_13.52.01.mp4'),\n",
       " PosixPath('/home/hotratx/Videos/financecontrol-2021-08-05_19.29.07.mp4'),\n",
       " PosixPath('/home/hotratx/Videos/estoqueCasanossa-2021-07-26_14.18.08.mp4')]"
      ]
     },
     "execution_count": 110,
     "metadata": {},
     "output_type": "execute_result"
    }
   ],
   "source": [
    "[ path for path in p.iterdir() ]"
   ]
  },
  {
   "cell_type": "code",
   "execution_count": null,
   "id": "030928de-3590-4ee2-a076-f22b02185298",
   "metadata": {},
   "outputs": [],
   "source": []
  }
 ],
 "metadata": {
  "kernelspec": {
   "display_name": "Python 3 (ipykernel)",
   "language": "python",
   "name": "python3"
  },
  "language_info": {
   "codemirror_mode": {
    "name": "ipython",
    "version": 3
   },
   "file_extension": ".py",
   "mimetype": "text/x-python",
   "name": "python",
   "nbconvert_exporter": "python",
   "pygments_lexer": "ipython3",
   "version": "3.10.4"
  }
 },
 "nbformat": 4,
 "nbformat_minor": 5
}
